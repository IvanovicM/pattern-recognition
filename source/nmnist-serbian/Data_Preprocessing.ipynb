{
  "nbformat": 4,
  "nbformat_minor": 0,
  "metadata": {
    "colab": {
      "name": "Data Preprocessing",
      "provenance": [],
      "collapsed_sections": []
    },
    "kernelspec": {
      "name": "python3",
      "display_name": "Python 3"
    }
  },
  "cells": [
    {
      "cell_type": "markdown",
      "metadata": {
        "id": "WF-IzAiNPGCl",
        "colab_type": "text"
      },
      "source": [
        "# Read data from the drive\n",
        "\n",
        "If needed, mount your drive."
      ]
    },
    {
      "cell_type": "code",
      "metadata": {
        "id": "q9hKsKzTnnaZ",
        "colab_type": "code",
        "colab": {}
      },
      "source": [
        "from google.colab import drive\n",
        "drive.mount('/content/drive')"
      ],
      "execution_count": 0,
      "outputs": []
    },
    {
      "cell_type": "markdown",
      "metadata": {
        "id": "iTCZmtscnos1",
        "colab_type": "text"
      },
      "source": [
        "Read the data from the directory 'dir'. \\\\\n",
        "An assumption is that the images file names are in the format: 'baza-label-num.bmp'."
      ]
    },
    {
      "cell_type": "code",
      "metadata": {
        "id": "-4--2C2zoD1G",
        "colab_type": "code",
        "outputId": "adfa269c-ccba-4534-bac5-889fa7b7a999",
        "colab": {
          "base_uri": "https://localhost:8080/",
          "height": 366
        }
      },
      "source": [
        "import numpy as np \n",
        "import cv2\n",
        "import matplotlib.pyplot as plt\n",
        "import seaborn as sns\n",
        "\n",
        "sns.set()\n",
        "n_examples = 120\n",
        "dir = '...'\n",
        "letters = ['A', 'E', 'I', 'O', 'U']\n",
        "\n",
        "def show_image(img, title=None):\n",
        "  plt.xticks([])\n",
        "  plt.yticks([])\n",
        "  plt.title(title)\n",
        "  plt.imshow(X[0], 'gray')\n",
        "  print()\n",
        "\n",
        "def read_data():\n",
        "    X = []\n",
        "    y = np.repeat([0, 1, 2, 3, 4], n_examples)\n",
        "\n",
        "    for letter in letters:\n",
        "        print('Letter: {} ...'.format(letter))\n",
        "        for img_num in range(1, n_examples+1):\n",
        "            path = '{}/baza{}{}{}{}.bmp'.format(\n",
        "                dir, letter, img_num // 100, (img_num % 100) // 10, img_num % 10\n",
        "            )\n",
        "\n",
        "            img = cv2.imread(path)\n",
        "            gray_image = cv2.cvtColor(img, cv2.COLOR_BGR2GRAY)\n",
        "            X.append(gray_image)\n",
        "    return X, y\n",
        "\n",
        "X, y = read_data()\n",
        "show_image(X[0], 'Original Image')"
      ],
      "execution_count": 0,
      "outputs": [
        {
          "output_type": "stream",
          "text": [
            "Letter: A ...\n",
            "Letter: E ...\n",
            "Letter: I ...\n",
            "Letter: O ...\n",
            "Letter: U ...\n",
            "\n"
          ],
          "name": "stdout"
        },
        {
          "output_type": "display_data",
          "data": {
            "image/png": "[encoded data removed]",
            "text/plain": [
              "<Figure size 432x288 with 1 Axes>"
            ]
          },
          "metadata": {
            "tags": []
          }
        }
      ]
    },
    {
      "cell_type": "markdown",
      "metadata": {
        "id": "HjKUrjDNoCsN",
        "colab_type": "text"
      },
      "source": [
        "# Preprocess every image\n",
        "\n",
        "The preprocessing is done in the following way:\n",
        "\n",
        "\n",
        "* Image is segmented with an empirical estimated threshold \n",
        "* Image is inverted, so that letter is white and background is black\n",
        "* Border is removed, since it's not important for the classification\n",
        "* Small components are also removed, so they don't affect further classification\n",
        "* Only important part of an image is cropped, so it contains only the letter\n",
        "\n"
      ]
    },
    {
      "cell_type": "code",
      "metadata": {
        "id": "3Z_FE2D7LBL5",
        "colab_type": "code",
        "outputId": "8b17f720-51f6-4546-cd7a-0e23f7cab8d8",
        "colab": {
          "base_uri": "https://localhost:8080/",
          "height": 281
        }
      },
      "source": [
        "from skimage import filters\n",
        "from queue import Queue \n",
        "from skimage import morphology\n",
        "\n",
        "def bfs(img, visited, i_start, j_start):\n",
        "  q = Queue(maxsize = 500)\n",
        "  q.put([i_start, j_start])\n",
        "  img[i_start, j_start] = 0 \n",
        "  visited[i_start, j_start] = True\n",
        "\n",
        "  while not q.empty():\n",
        "    [i_curr, j_curr] = q.get()\n",
        "    dij = [-1, 0, 1]\n",
        "\n",
        "    for di in dij:\n",
        "      i_next = i_curr + di\n",
        "      if i_next < 0 or i_next >= img.shape[0]:\n",
        "        continue\n",
        "      for dj in dij:\n",
        "        j_next = j_curr + dj\n",
        "        if j_next < 0 or j_next >= img.shape[1]:\n",
        "          continue\n",
        "        if (i_next > 40 and i_next < img.shape[0] - 40) and (\n",
        "            j_next > 40 and j_next < img.shape[1] - 40):\n",
        "          continue\n",
        "\n",
        "        if img[i_next, j_next] == 255 and not visited[i_next, j_next]:\n",
        "          img[i_next, j_next] = 0 \n",
        "          visited[i_next, j_next] = True\n",
        "          q.put([i_next, j_next])\n",
        "  return img, visited\n",
        "\n",
        "def remove_white_edges(img):\n",
        "  visited = np.zeros(shape=img.shape, dtype=bool)\n",
        "  for i in [0, img.shape[0] - 1]:\n",
        "    for j in range(img.shape[1]):\n",
        "      if not visited[i, j] and img[i, j] == 255:\n",
        "        img, visited = bfs(img, visited, i, j)\n",
        "  for i in range(img.shape[0]):\n",
        "    for j in [0, img.shape[1] - 1]:\n",
        "      if not visited[i, j] and img[i, j] == 255:\n",
        "        img, visited = bfs(img, visited, i, j)\n",
        "\n",
        "    return img\n",
        "\n",
        "def remove_very_small_components(img):\n",
        "  nb_components, output, stats, centroids = (\n",
        "      cv2.connectedComponentsWithStats(img, connectivity=8)\n",
        "  )\n",
        "  sizes = stats[1:, -1]; nb_components = nb_components - 1\n",
        "\n",
        "  min_size = 20 # of a component\n",
        "  img_2 = np.zeros((img.shape), dtype=int)\n",
        "  for i in range(0, nb_components):\n",
        "    if sizes[i] >= min_size:\n",
        "      img_2[output == i + 1] = 255\n",
        "  return img_2\n",
        "\n",
        "def get_relevant_part(img):\n",
        "  (h, w) = img.shape\n",
        "\n",
        "  # JMIN\n",
        "  jmin = 0\n",
        "  found = False\n",
        "  for j in range(w):\n",
        "    for i in range(h):\n",
        "      if img[i, j] == 255:\n",
        "        found = True\n",
        "        jmin = j\n",
        "      if found:\n",
        "        break\n",
        "    if found:\n",
        "      break\n",
        "\n",
        "  # JMAX\n",
        "  jmax = 0\n",
        "  found = False\n",
        "  for j in reversed(range(w)):\n",
        "    for i in range(h):\n",
        "      if img[i, j] == 255:\n",
        "        found = True\n",
        "        jmax = j\n",
        "      if found:\n",
        "        break\n",
        "    if found:\n",
        "      break\n",
        "\n",
        "  # IMIN\n",
        "  imin = 0\n",
        "  found = False\n",
        "  for i in range(h):\n",
        "    for j in range(w):\n",
        "      if img[i, j] == 255:\n",
        "        found = True\n",
        "        imin = i\n",
        "      if found:\n",
        "        break\n",
        "    if found:\n",
        "      break\n",
        "\n",
        "  # IMAX\n",
        "  imax = 0\n",
        "  found = False\n",
        "  for i in reversed(range(h)):\n",
        "    for j in range(w):\n",
        "      if img[i, j] == 255:\n",
        "        found = True\n",
        "        imax = i\n",
        "      if found:\n",
        "        break\n",
        "    if found:\n",
        "      break\n",
        "\n",
        "  return img[imin:imax, jmin:jmax]\n",
        "\n",
        "def preprocess_image(img, img_num, label):\n",
        "  print('Processing image {} of label {}...'.format(img_num, label))\n",
        "\n",
        "  # Segmentation & inverse\n",
        "  _, img = cv2.threshold(img, 200, 255, cv2.THRESH_BINARY)\n",
        "  img = 255 - img\n",
        "\n",
        "  # No border and small componenets\n",
        "  img = remove_white_edges(img)\n",
        "  img = remove_very_small_components(img)\n",
        "\n",
        "  # Crop image to have only letter\n",
        "  img = get_relevant_part(img)\n",
        "\n",
        "  return img\n",
        "\n",
        "def preprocess_data(X):\n",
        "  for img_num in range(len(X)):\n",
        "    img = X[img_num]\n",
        "    label = y[img_num]\n",
        "    X[img_num] = preprocess_image(img, np.mod(img_num, n_examples), label)\n",
        "  \n",
        "  return X\n",
        "\n",
        "X_p = preprocess_data(X)\n",
        "show_image(X_p[0], 'Preprocessed Image')"
      ],
      "execution_count": 0,
      "outputs": [
        {
          "output_type": "stream",
          "text": [
            "\n"
          ],
          "name": "stdout"
        },
        {
          "output_type": "display_data",
          "data": {
            "image/png": "[encoded data removed]",
            "text/plain": [
              "<Figure size 432x288 with 1 Axes>"
            ]
          },
          "metadata": {
            "tags": []
          }
        }
      ]
    },
    {
      "cell_type": "markdown",
      "metadata": {
        "id": "s3mP8344oxYf",
        "colab_type": "text"
      },
      "source": [
        "# Save processed images\n",
        "\n",
        "Save all the processed images to the directory 'dir_to_write', in the format 'label-num.bmp'."
      ]
    },
    {
      "cell_type": "code",
      "metadata": {
        "id": "Gdez636couh7",
        "colab_type": "code",
        "colab": {}
      },
      "source": [
        "dir_to_write = '...'\n",
        "\n",
        "def save_preprocessed(X, y):\n",
        "  for img_num in range(len(X)):\n",
        "    img = X[img_num]\n",
        "    label = y[img_num]\n",
        "\n",
        "    img_label_num = np.mod(img_num, n_examples)\n",
        "    a = cv2.imwrite('{}/{}-{}.bmp'.format(dir_to_write, label, img_label_num), img)\n",
        "    \n",
        "save_preprocessed(X_p, y)"
      ],
      "execution_count": 0,
      "outputs": []
    }
  ]
}